{
  "cells": [
    {
      "cell_type": "markdown",
      "metadata": {
        "id": "view-in-github",
        "colab_type": "text"
      },
      "source": [
        "<a href=\"https://colab.research.google.com/github/pavanibasanth/pavani_INFO5731_Fall2024/blob/main/Kommineni_Pavani_Assignment_01.ipynb\" target=\"_parent\"><img src=\"https://colab.research.google.com/assets/colab-badge.svg\" alt=\"Open In Colab\"/></a>"
      ]
    },
    {
      "cell_type": "markdown",
      "metadata": {
        "id": "Ryk8D1Q4Wsrp"
      },
      "source": [
        "# **INFO5731 Assignment One**"
      ]
    },
    {
      "cell_type": "markdown",
      "metadata": {
        "id": "qcP6re2g5A5r"
      },
      "source": [
        "This assignment includes range of programming tasks and data analysis exercises, aiming to enhance your Python skills and proficiency in string manipulation, numerical computations, and data science. Follow the instructions carefully and design well-structured Python programs to address each question.\n",
        "\n",
        "Late Submission will have a penalty of 10% reduction for each day after the deadline."
      ]
    },
    {
      "cell_type": "markdown",
      "metadata": {
        "id": "JkzR8cFAyGik"
      },
      "source": [
        "# Question 1 (10 points).\n",
        "\n",
        "The formula that describes the volume V of a hemisphere with radius r is the following:\n",
        "\n",
        "$ V=\\frac{2}{3}\\ast\\ \\pi\\ast\\ r^3 $\n",
        "\n",
        "Write a program to calculate the value of V when r is in the range of even numbers from 1-20. Output the result in the following format:\n",
        "\n",
        "\tr\tV\n",
        "\t2\t…\n",
        "\t4\t…\n",
        "\t6\t…\n",
        "\t.\n",
        "\t.\n",
        "\t.\n",
        "\t20\t…\n"
      ]
    },
    {
      "cell_type": "code",
      "execution_count": 1,
      "metadata": {
        "id": "jDyTKYs-yGit",
        "colab": {
          "base_uri": "https://localhost:8080/"
        },
        "outputId": "b1cd87d7-e49b-4a45-cac0-7b7bf6e261be"
      },
      "outputs": [
        {
          "output_type": "stream",
          "name": "stdout",
          "text": [
            "r   V                   \n",
            "2   16.75516            \n",
            "4   134.04129           \n",
            "6   452.38934           \n",
            "8   1072.33029          \n",
            "10  2094.39510          \n",
            "12  3619.11474          \n",
            "14  5747.02016          \n",
            "16  8578.64234          \n",
            "18  12214.51224         \n",
            "20  16755.16082         \n"
          ]
        }
      ],
      "source": [
        "# Your code here\n",
        "\n",
        "import math\n",
        "\n",
        "# Function to calculate the volume of a hemisphere\n",
        "def calculate_volume(r):\n",
        "    return (2/3) * math.pi * r**3\n",
        "\n",
        "# Print the header\n",
        "print(f\"{'r':<4}{'V':<20}\")\n",
        "\n",
        "# Loop over even numbers from 2 to 20\n",
        "for r in range(2, 21, 2):\n",
        "    V = calculate_volume(r)\n",
        "    print(f\"{r:<4}{V:<20.5f}\")\n"
      ]
    },
    {
      "cell_type": "markdown",
      "metadata": {
        "id": "90_NR8c5XGWc"
      },
      "source": [
        "# Question 2 (20 points)\n",
        "\n",
        "(a) Write a Python program to generate a sequence of 12 random numbers falling within the range of 50 to 150.\n",
        "\n",
        "(b) Arrange the generated numbers in ascending order. Display the sorted list.\n",
        "\n",
        "(c) Extend the program to arrange the numbers in descending order as well. Present the sorted list accordingly.\n",
        "\n",
        "(d) Compute and output the average of the entire group of generated numbers.\n",
        "\n",
        "(e) Enhance the program to calculate and display the average of the first 6 numbers from both the ascending and descending sorted lists."
      ]
    },
    {
      "cell_type": "code",
      "execution_count": 2,
      "metadata": {
        "id": "5QX6bJjGWXY9",
        "colab": {
          "base_uri": "https://localhost:8080/"
        },
        "outputId": "4fd62166-02ab-429e-9b1a-64d895e43927"
      },
      "outputs": [
        {
          "output_type": "stream",
          "name": "stdout",
          "text": [
            "Original Random Numbers: [110, 147, 124, 103, 81, 86, 139, 93, 94, 66, 53, 61]\n",
            "Ascending Order: [53, 61, 66, 81, 86, 93, 94, 103, 110, 124, 139, 147]\n",
            "Descending Order: [147, 139, 124, 110, 103, 94, 93, 86, 81, 66, 61, 53]\n",
            "Average of all numbers: 96.42\n",
            "Average of first 6 numbers in ascending order: 73.33\n",
            "Average of first 6 numbers in descending order: 119.5\n"
          ]
        }
      ],
      "source": [
        "# Write code for each of the sub parts with proper comments.\n",
        "\n",
        "import random\n",
        "\n",
        "# (a) Generate a sequence of 12 random numbers within the range of 50 to 150\n",
        "random_numbers = [random.randint(50, 150) for _ in range(12)]\n",
        "print(\"Original Random Numbers:\", random_numbers)\n",
        "\n",
        "# (b) Arrange the generated numbers in ascending order and display the sorted list\n",
        "ascending_numbers = sorted(random_numbers)\n",
        "print(\"Ascending Order:\", ascending_numbers)\n",
        "\n",
        "# (c) Arrange the numbers in descending order and display the sorted list\n",
        "descending_numbers = sorted(random_numbers, reverse=True)\n",
        "print(\"Descending Order:\", descending_numbers)\n",
        "\n",
        "# (d) Compute and output the average of the entire group of generated numbers\n",
        "average = sum(random_numbers) / len(random_numbers)\n",
        "print(\"Average of all numbers:\", round(average, 2))\n",
        "\n",
        "# (e) Compute and display the average of the first 6 numbers from both sorted lists\n",
        "average_first_six_ascending = sum(ascending_numbers[:6]) / 6\n",
        "average_first_six_descending = sum(descending_numbers[:6]) / 6\n",
        "\n",
        "print(\"Average of first 6 numbers in ascending order:\", round(average_first_six_ascending, 2))\n",
        "print(\"Average of first 6 numbers in descending order:\", round(average_first_six_descending, 2))\n"
      ]
    },
    {
      "cell_type": "markdown",
      "metadata": {
        "id": "1F_PZdH9Sh49"
      },
      "source": [
        "# Question 3 (20 points).\n",
        "\n",
        "Create a Python program that encompasses various string manipulation task:\n",
        "\n",
        "(a) Prompt the user to input two sentences.\n",
        "\n",
        "(b) Transform each sentence into a list, where each element corresponds to a word in the sentence. For example, if the sentences are \"Hello, how are you doing today?\" and \"This is an example sentence for the program!\"\n",
        "\n",
        "The program should output:\n",
        "['Hello', ',', 'how', 'are', 'you', 'doing', 'today', '?', 'This', 'is', 'an', 'example', 'sentence', 'for', 'the', 'program', '!']\n",
        "\n",
        "(c) Compare the two sentences. Print out a list of words that occur in both sentences.\n",
        "\n",
        "(d) Remove any punctuation from the sentence and print the sanitized sentences. It should remove at least the following characters, but it can remove more: period(“.”), comma (“,”), semicolon (“;”), and colon (“:”).\n",
        "\n",
        "(e) Count the number of vowels in each of the sentences. Print out each vowel and the occurrences  in the each of the two sentences separately, such as:\n",
        "\n",
        "Sentence1: a:2, e:2, i:0, etc.\n",
        "Sentence2: a:1, e:2, i:2, etc.\n",
        "\n",
        "Design a well-structured Python program to execute these tasks efficiently."
      ]
    },
    {
      "cell_type": "code",
      "execution_count": 5,
      "metadata": {
        "id": "Y0oOSlsOS0cq",
        "colab": {
          "base_uri": "https://localhost:8080/"
        },
        "outputId": "57a778d1-6d8e-467a-bf10-3b25f37e03f6"
      },
      "outputs": [
        {
          "output_type": "stream",
          "name": "stdout",
          "text": [
            "Enter the first sentence: pavani,beautiful?\n",
            "Enter the second sentence: 'pavani',', ', 'beautiful'?\n",
            "Combined List of Words:\n",
            "['pavani,beautiful?', \"'pavani',',\", \"',\", \"'beautiful'?\"]\n",
            "\n",
            "Common Words in Both Sentences:\n",
            "[]\n",
            "\n",
            "Sanitized Sentences:\n",
            "Sentence 1: pavanibeautiful\n",
            "Sentence 2: pavani  beautiful\n",
            "\n",
            "Vowel Occurrences:\n",
            "Sentence 1: {'a': 3, 'e': 1, 'i': 2, 'o': 0, 'u': 2, 'A': 0, 'E': 0, 'I': 0, 'O': 0, 'U': 0}\n",
            "Sentence 2: {'a': 3, 'e': 1, 'i': 2, 'o': 0, 'u': 2, 'A': 0, 'E': 0, 'I': 0, 'O': 0, 'U': 0}\n"
          ]
        }
      ],
      "source": [
        "# Your code here\n",
        "\n",
        "import string\n",
        "\n",
        "# (a) Prompt the user to input two sentences\n",
        "sentence1 = input(\"Enter the first sentence: \")\n",
        "sentence2 = input(\"Enter the second sentence: \")\n",
        "\n",
        "# (b) Transform each sentence into a list of words\n",
        "words1 = sentence1.split()\n",
        "words2 = sentence2.split()\n",
        "combined_list = words1 + words2\n",
        "\n",
        "print(\"Combined List of Words:\")\n",
        "print(combined_list)\n",
        "\n",
        "# (c) Compare the two sentences and print out a list of words that occur in both\n",
        "common_words = set(words1).intersection(set(words2))\n",
        "print(\"\\nCommon Words in Both Sentences:\")\n",
        "print(list(common_words))\n",
        "\n",
        "# (d) Remove punctuation from the sentences and print the sanitized sentences\n",
        "translator = str.maketrans('', '', string.punctuation)\n",
        "sanitized_sentence1 = sentence1.translate(translator)\n",
        "sanitized_sentence2 = sentence2.translate(translator)\n",
        "\n",
        "print(\"\\nSanitized Sentences:\")\n",
        "print(\"Sentence 1:\", sanitized_sentence1)\n",
        "print(\"Sentence 2:\", sanitized_sentence2)\n",
        "\n",
        "# (e) Count the number of vowels in each sentence and print the occurrences\n",
        "vowels = 'aeiouAEIOU'\n",
        "vowel_count1 = {vowel: sanitized_sentence1.lower().count(vowel) for vowel in vowels}\n",
        "vowel_count2 = {vowel: sanitized_sentence2.lower().count(vowel) for vowel in vowels}\n",
        "\n",
        "print(\"\\nVowel Occurrences:\")\n",
        "print(\"Sentence 1:\", vowel_count1)\n",
        "print(\"Sentence 2:\", vowel_count2)\n"
      ]
    },
    {
      "cell_type": "markdown",
      "metadata": {
        "id": "OP4-5qxAtInv"
      },
      "source": [
        "# Question 4 (20 Points)"
      ]
    },
    {
      "cell_type": "markdown",
      "metadata": {
        "id": "uzN4_hDptK9U"
      },
      "source": [
        "Design and implement a simple command-line calculator program. The program should handle both integers and floating-point numbers.\n",
        "\n",
        "(a) Write program that takes a mathematical expression as input and evaluates it. The program should support addition, subtraction, multiplication, and division.\n",
        "\n",
        "(b) Extend the calculator to handle parentheses in mathematical expressions. Implement the necessary logic to evaluate expressions with nested parentheses.\n",
        "\n",
        "(c) Enhance your calculator to include additional mathematical operations such as exponentiation, square root, and modulus.\n",
        "\n",
        "(d) Implement error handling in the calculator program. Handle cases such as division by zero and invalid input expressions. Provide meaningful error messages.\n",
        "\n",
        "(e) Implement a command to exit the calculator."
      ]
    },
    {
      "cell_type": "code",
      "execution_count": 9,
      "metadata": {
        "id": "8nQnVxjJuYtu",
        "colab": {
          "base_uri": "https://localhost:8080/"
        },
        "outputId": "446576f8-c98d-40e0-853f-8d35524be456"
      },
      "outputs": [
        {
          "output_type": "stream",
          "name": "stdout",
          "text": [
            "Simple Command-Line Calculator\n",
            "Supports +, -, *, /, ** (exponentiation), %, sqrt() (square root)\n",
            "Type 'exit' to quit the calculator.\n",
            "\n",
            "Enter expression: 4+6\n",
            "Result: 10\n",
            "\n",
            "Enter expression: 8-2\n",
            "Result: 6\n",
            "\n",
            "Enter expression: 9%2\n",
            "Result: 1\n",
            "\n",
            "Enter expression: 4+6,\n",
            "Result: (10,)\n",
            "\n",
            "Enter expression: 4+6,5-3,8*2,\n",
            "Result: (10, 2, 16)\n",
            "\n",
            "Enter expression: exit\n",
            "Exiting the calculator. Goodbye!\n"
          ]
        }
      ],
      "source": [
        "# Your code here\n",
        "\n",
        "import math\n",
        "\n",
        "def evaluate_expression(expression):\n",
        "    try:\n",
        "        # Evaluate the expression using Python's eval() function\n",
        "        result = eval(expression)\n",
        "        return result\n",
        "    except ZeroDivisionError:\n",
        "        return \"Error: Division by zero is not allowed.\"\n",
        "    except Exception as e:\n",
        "        return f\"Error: Invalid expression. {e}\"\n",
        "\n",
        "def main():\n",
        "    print(\"Simple Command-Line Calculator\")\n",
        "    print(\"Supports +, -, *, /, ** (exponentiation), %, sqrt() (square root)\")\n",
        "    print(\"Type 'exit' to quit the calculator.\")\n",
        "\n",
        "    while True:\n",
        "        # Prompt the user to enter a mathematical expression\n",
        "        expression = input(\"\\nEnter expression: \")\n",
        "\n",
        "        # Exit the calculator if the user types 'exit'\n",
        "        if expression.lower() == 'exit':\n",
        "            print(\"Exiting the calculator. Goodbye!\")\n",
        "            break\n",
        "\n",
        "        # Handle square root operation separately\n",
        "        if 'sqrt' in expression:\n",
        "            try:\n",
        "                # Extract the argument for sqrt and compute the square root\n",
        "                num = float(expression[expression.find('(')+1:expression.find(')')])\n",
        "                result = math.sqrt(num)\n",
        "            except ValueError:\n",
        "                result = \"Error: Invalid input for square root.\"\n",
        "        else:\n",
        "            # Evaluate the expression\n",
        "            result = evaluate_expression(expression)\n",
        "\n",
        "        print(f\"Result: {result}\")\n",
        "\n",
        "if __name__ == \"__main__\":\n",
        "    main()\n"
      ]
    },
    {
      "cell_type": "markdown",
      "metadata": {
        "id": "z3tBE7E-Xn5X"
      },
      "source": [
        "# Question 5 (30 points).\n",
        "\n",
        "In the field of Data Science, data is often formatted as a comma-delimited (CSV) file, where each line in a file corresponds to a field's value. Refer to Chapter 9 (p. 106) for more information on comma-delimited files.\n",
        "\n",
        "To answer this question, you will need to download the file [Assignment1_denton_housing.csv](https://raw.githubusercontent.com/unt-iialab/info5731-spring2022/main/assignments/Assignment1_denton_housing.csv) included with this assignment. The file contains statistics about housing in the city of Denton from 2008 to 2014. Write a program to implement the following questions.\n",
        "\n",
        "(a) (5 pts) Calculate the difference in the number of Occupied Housing Units from year to year and print it. The difference must be calculated for the consecutive years such as 2008-2009, 2009-2010 etc. Finally, print the values in the ascending order.\n",
        "\n",
        "(b) (5 pts) For all the years, calculate the percentage of housing units which are vacant an occupied. Print the results in the following format:\n",
        "\n",
        "Year Vacant Housing Units Occupied Housing Units\n",
        "\n",
        "    2008  30%   70%                          \n",
        "\t2009 ----- -----\n",
        "\t2010 ----- -----\n",
        "    2011 ----- -----\n",
        "\t2012 ----- -----\n",
        "    2013 ----- -----\n",
        "\t2014 ----- -----\n",
        "  \n",
        "  \n",
        "\n",
        "(c) (10 pts) Calculate and print the valued and years in which the highest number of housing units were vacant and occupied. Print the results in the following format:  \n",
        "\n",
        "                              Year\tValue\n",
        "\tVacant Housing Units\t  -----   -----\n",
        "\tOccupied Housing Units\t-----   -----\n",
        "\n",
        "(d) (10 pts) Calculate the harmonic mean of the total housing units and print it out. You can find the information about harmonic mean here: https://ncalculators.com/statistics/harmonic-mean-calculator.htm"
      ]
    },
    {
      "cell_type": "code",
      "execution_count": 8,
      "metadata": {
        "id": "lqGYuHBhcsRH",
        "colab": {
          "base_uri": "https://localhost:8080/"
        },
        "outputId": "7f22d165-9546-4e1c-a3eb-1d8dc04e1f32"
      },
      "outputs": [
        {
          "output_type": "stream",
          "name": "stdout",
          "text": [
            "\n",
            "Year-to-Year Difference in Occupied Housing Units (sorted):\n",
            "2008-2009: -795\n",
            "2010-2011: -303\n",
            "2011-2012: 1404\n",
            "2012-2013: 1565\n",
            "2013-2014: 2622\n",
            "2009-2010: 5091\n",
            "\n",
            "Yearly Percentage of Vacant and Occupied Housing Units:\n",
            "Year  Vacant (%)     Occupied (%)   \n",
            "2008  10.88%89.12%\n",
            "2009  9.07%90.93%\n",
            "2010  8.14%91.86%\n",
            "2011  9.38%90.62%\n",
            "2012  6.68%93.32%\n",
            "2013  8.80%91.20%\n",
            "2014  5.73%94.27%\n",
            "\n",
            "Year with the Highest Number of Vacant and Occupied Housing Units:\n",
            "                              Year      Value     \n",
            "Vacant Housing Units          2008      4483      \n",
            "Occupied Housing Units        2014      46295     \n",
            "\n",
            "Harmonic Mean of Total Housing Units: 44398.29\n"
          ]
        }
      ],
      "source": [
        "import csv\n",
        "from collections import defaultdict\n",
        "from statistics import harmonic_mean\n",
        "import requests\n",
        "\n",
        "# Download the CSV file from the provided URL\n",
        "url = 'https://raw.githubusercontent.com/unt-iialab/info5731-spring2022/main/assignments/Assignment1_denton_housing.csv'\n",
        "response = requests.get(url)\n",
        "csv_content = response.text\n",
        "\n",
        "# Save the content to a local CSV file\n",
        "with open('Assignment1_denton_housing.csv', mode='w') as file:\n",
        "    file.write(csv_content)\n",
        "\n",
        "# Load the CSV file and organize the data\n",
        "data = defaultdict(dict)\n",
        "\n",
        "with open('Assignment1_denton_housing.csv', mode='r') as file:\n",
        "    reader = csv.DictReader(file)\n",
        "    for row in reader:\n",
        "        year = int(row['year'])\n",
        "        title = row['title_field']\n",
        "        value = int(row['value'])\n",
        "        data[year][title] = value\n",
        "\n",
        "# (a) Calculate the year-to-year difference in Occupied Housing Units and sort the results in ascending order\n",
        "occupied_diff = []\n",
        "\n",
        "for year in sorted(data.keys()):\n",
        "    if year + 1 in data:\n",
        "        if 'Occupied Housing Units' in data[year] and 'Occupied Housing Units' in data[year + 1]:\n",
        "            diff = data[year + 1]['Occupied Housing Units'] - data[year]['Occupied Housing Units']\n",
        "            occupied_diff.append((year, year + 1, diff))\n",
        "\n",
        "# Sort the differences in ascending order\n",
        "occupied_diff_sorted = sorted(occupied_diff, key=lambda x: x[2])\n",
        "\n",
        "print(\"\\nYear-to-Year Difference in Occupied Housing Units (sorted):\")\n",
        "for diff in occupied_diff_sorted:\n",
        "    print(f\"{diff[0]}-{diff[1]}: {diff[2]}\")\n",
        "\n",
        "# (b) Calculate the percentage of vacant and occupied housing units for each year\n",
        "print(\"\\nYearly Percentage of Vacant and Occupied Housing Units:\")\n",
        "print(f\"{'Year':<6}{'Vacant (%)':<15}{'Occupied (%)':<15}\")\n",
        "\n",
        "for year in sorted(data.keys()):\n",
        "    if 'Total Housing Units' in data[year] and 'Vacant Housing Units' in data[year] and 'Occupied Housing Units' in data[year]:\n",
        "        total_units = data[year]['Total Housing Units']\n",
        "        vacant_units = data[year]['Vacant Housing Units']\n",
        "        occupied_units = data[year]['Occupied Housing Units']\n",
        "        vacant_percentage = (vacant_units / total_units) * 100\n",
        "        occupied_percentage = (occupied_units / total_units) * 100\n",
        "        print(f\"{year:<6}{vacant_percentage:.2f}%{occupied_percentage:.2f}%\")\n",
        "\n",
        "# (c) Find the year and value with the highest number of vacant and occupied housing units\n",
        "max_vacant_year = max(data, key=lambda year: data[year].get('Vacant Housing Units', 0))\n",
        "max_occupied_year = max(data, key=lambda year: data[year].get('Occupied Housing Units', 0))\n",
        "\n",
        "print(\"\\nYear with the Highest Number of Vacant and Occupied Housing Units:\")\n",
        "print(f\"{'':<30}{'Year':<10}{'Value':<10}\")\n",
        "print(f\"{'Vacant Housing Units':<30}{max_vacant_year:<10}{data[max_vacant_year].get('Vacant Housing Units', 'N/A'):<10}\")\n",
        "print(f\"{'Occupied Housing Units':<30}{max_occupied_year:<10}{data[max_occupied_year].get('Occupied Housing Units', 'N/A'):<10}\")\n",
        "\n",
        "# (d) Calculate the harmonic mean of the total housing units\n",
        "total_units = [data[year]['Total Housing Units'] for year in sorted(data.keys()) if 'Total Housing Units' in data[year]]\n",
        "if total_units:\n",
        "    harmonic_mean_value = harmonic_mean(total_units)\n",
        "    print(f\"\\nHarmonic Mean of Total Housing Units: {harmonic_mean_value:.2f}\")\n",
        "else:\n",
        "    print(\"\\nNo data available to calculate the harmonic mean.\")\n"
      ]
    },
    {
      "cell_type": "markdown",
      "metadata": {
        "id": "q8BFCvWp32cf"
      },
      "source": [
        "# Mandatory Question\n",
        "\n",
        "Provide your thoughts on the assignment. What did you find challenging, and what aspects did you enjoy? Your opinion on the provided time to complete the assignment. Share any suggestions for improvement. Your feedback will be valuable for enhancing the learning experience."
      ]
    },
    {
      "cell_type": "code",
      "execution_count": 10,
      "metadata": {
        "id": "_e557s2w4BpK",
        "colab": {
          "base_uri": "https://localhost:8080/",
          "height": 123
        },
        "outputId": "13318b6c-3d27-476e-bdb5-32c7a7faf080"
      },
      "outputs": [
        {
          "output_type": "execute_result",
          "data": {
            "text/plain": [
              "'\\nThis assignment included the reinforcement of critical functionalities in Python and the primary principles of data analysis, which can be earning experience and a set of tasks. \\nSome noticeable difficulties during the operations included dealing with real-world CSV data where data extraction and manipulation needed keen understanding, especially when dealing with the Denton housing data set. It took more work to calculate percentages and harmonic means. A significant problem was string manipulation, especially the elimination of punctuation while keeping the sentences’ structure. Expanding the command-line calculator and adding more operations besides errors as division was interesting by zero. \\nThe fun and learning factors included tackling different problems, especially working with the CSV data and coding a script that produces reports of interest. It was interesting to practice Python skills like file management while and functions; adding a functional calculator to the project’s requirements was entertaining. \\nEven though the total amount of time for the given assignment can be considered appropriate, the data analysis segment could have been more time-consuming due to the given data set. Recommendations for improvement entail offering more direction on data-related questions, offering more specimens for the calculator, and urging coders to optimize the performance and legibility of their codes.\\n'"
            ],
            "application/vnd.google.colaboratory.intrinsic+json": {
              "type": "string"
            }
          },
          "metadata": {},
          "execution_count": 10
        }
      ],
      "source": [
        "# Write your response below\n",
        "'''\n",
        "This assignment included the reinforcement of critical functionalities in Python and the primary principles of data analysis, which can be earning experience and a set of tasks.\n",
        "Some noticeable difficulties during the operations included dealing with real-world CSV data where data extraction and manipulation needed keen understanding, especially when dealing with the Denton housing data set. It took more work to calculate percentages and harmonic means. A significant problem was string manipulation, especially the elimination of punctuation while keeping the sentences’ structure. Expanding the command-line calculator and adding more operations besides errors as division was interesting by zero.\n",
        "The fun and learning factors included tackling different problems, especially working with the CSV data and coding a script that produces reports of interest. It was interesting to practice Python skills like file management while and functions; adding a functional calculator to the project’s requirements was entertaining.\n",
        "Even though the total amount of time for the given assignment can be considered appropriate, the data analysis segment could have been more time-consuming due to the given data set. Recommendations for improvement entail offering more direction on data-related questions, offering more specimens for the calculator, and urging coders to optimize the performance and legibility of their codes.\n",
        "'''"
      ]
    },
    {
      "cell_type": "code",
      "execution_count": null,
      "metadata": {
        "id": "DVpLmp_pvdnQ"
      },
      "outputs": [],
      "source": []
    }
  ],
  "metadata": {
    "colab": {
      "provenance": [],
      "include_colab_link": true
    },
    "kernelspec": {
      "display_name": "Python 3 (ipykernel)",
      "language": "python",
      "name": "python3"
    },
    "language_info": {
      "codemirror_mode": {
        "name": "ipython",
        "version": 3
      },
      "file_extension": ".py",
      "mimetype": "text/x-python",
      "name": "python",
      "nbconvert_exporter": "python",
      "pygments_lexer": "ipython3",
      "version": "3.12.5"
    }
  },
  "nbformat": 4,
  "nbformat_minor": 0
}