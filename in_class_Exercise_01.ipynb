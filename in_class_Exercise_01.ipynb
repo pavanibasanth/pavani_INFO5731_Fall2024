{
  "cells": [
    {
      "cell_type": "markdown",
      "metadata": {
        "id": "view-in-github",
        "colab_type": "text"
      },
      "source": [
        "<a href=\"https://colab.research.google.com/github/pavanibasanth/pavani_INFO5731_Fall2024/blob/main/in_class_Exercise_01.ipynb\" target=\"_parent\"><img src=\"https://colab.research.google.com/assets/colab-badge.svg\" alt=\"Open In Colab\"/></a>"
      ]
    },
    {
      "cell_type": "markdown",
      "metadata": {
        "id": "DymRJbxDBCnf"
      },
      "source": [
        "# **INFO5731 Exercise 1**\n",
        "\n",
        "This exercise covers a variety of fundamental concepts in Python and is designed to help students improve their coding skills and problem-solving abilities.\n",
        "\n",
        "**Expectations**:\n",
        "*   Students are expected to complete the exercise during lecture period to meet the active participation criteria of the course.\n",
        "*   Use the provided .*ipynb* document to write your code & respond to the questions. Avoid generating a new file.\n",
        "*   Write complete answers and run all the cells before submission.\n",
        "*   Make sure the submission is \"clean\"; *i.e.*, no unnecessary code cells.\n",
        "*   Once finished, allow shared rights from top right corner (*see Canvas for details*).\n",
        "\n",
        "**Total points**: 40\n",
        "\n",
        "**Deadline**: This in-class exercise is due at the end of the day tomorrow, at 11:59 PM.\n",
        "\n",
        "**Late submissions cannot be considered, and no requests will be answered. Manage your time accordingly.**\n"
      ]
    },
    {
      "cell_type": "markdown",
      "metadata": {
        "id": "FBKvD6O_TY6e"
      },
      "source": [
        "## Question 1\n",
        "Write a Python program that  prompts the user to input the length and width of a rectangle, and then calculates and displays the area of the rectangle."
      ]
    },
    {
      "cell_type": "code",
      "execution_count": 1,
      "metadata": {
        "colab": {
          "base_uri": "https://localhost:8080/"
        },
        "id": "cikVKDXdTbzE",
        "outputId": "e1e748df-8952-4fde-f3e5-e9ec4edf7b2c"
      },
      "outputs": [
        {
          "output_type": "stream",
          "name": "stdout",
          "text": [
            "Enter the length of the rectangle: 4\n",
            "Enter the width of the rectangle: 6\n",
            "The area of the rectangle is: 24.0\n"
          ]
        }
      ],
      "source": [
        "# write your answer here\n",
        "# Prompt the user for the length and width of the rectangle\n",
        "length = float(input(\"Enter the length of the rectangle: \"))\n",
        "width = float(input(\"Enter the width of the rectangle: \"))\n",
        "\n",
        "# Calculate the area of the rectangle\n",
        "area = length * width\n",
        "\n",
        "# Display the result\n",
        "print(f\"The area of the rectangle is: {area}\")\n"
      ]
    },
    {
      "cell_type": "markdown",
      "metadata": {
        "id": "E9RqrlwdTfvl"
      },
      "source": [
        "## Question 2\n",
        "Create a Python program that interactively takes two numerical inputs from the user and swaps their values without utilizing an extra variable."
      ]
    },
    {
      "cell_type": "code",
      "execution_count": 2,
      "metadata": {
        "id": "4XvRknixTh1g",
        "colab": {
          "base_uri": "https://localhost:8080/"
        },
        "outputId": "f30e53dc-a1bc-430b-8898-8f97c31a04d7"
      },
      "outputs": [
        {
          "output_type": "stream",
          "name": "stdout",
          "text": [
            "Enter the first number: 2\n",
            "Enter the second number: 4\n",
            "After swapping: First number = 4.0, Second number = 2.0\n"
          ]
        }
      ],
      "source": [
        "# write your answer here\n",
        "\n",
        "# Prompt the user for two numerical inputs\n",
        "num1 = float(input(\"Enter the first number: \"))\n",
        "num2 = float(input(\"Enter the second number: \"))\n",
        "\n",
        "# Swap the values without using an extra variable\n",
        "num1, num2 = num2, num1\n",
        "\n",
        "# Display the swapped values\n",
        "print(f\"After swapping: First number = {num1}, Second number = {num2}\")\n"
      ]
    },
    {
      "cell_type": "markdown",
      "metadata": {
        "id": "03jb4GZsBkBS"
      },
      "source": [
        "## Question 3\n",
        "Write a Python script to determine and print the length of a user-input string."
      ]
    },
    {
      "cell_type": "code",
      "source": [
        "def print_string_length():\n",
        "    \"\"\"Prompt the user for a string and print its length.\"\"\"\n",
        "    v = input(\"Enter a string: \")\n",
        "    length = len(v)\n",
        "    print(f\"The length of the entered string is: {length}\")\n",
        "\n",
        "# Call the function to execute\n",
        "print_string_length()\n"
      ],
      "metadata": {
        "colab": {
          "base_uri": "https://localhost:8080/"
        },
        "id": "U3v8TF-JAtu7",
        "outputId": "257dc5b6-99ef-40a3-8fdf-0600d4206d85"
      },
      "execution_count": 5,
      "outputs": [
        {
          "output_type": "stream",
          "name": "stdout",
          "text": [
            "Enter a string: venky\n",
            "The length of the entered string is: 5\n"
          ]
        }
      ]
    },
    {
      "cell_type": "markdown",
      "metadata": {
        "id": "jJDe71iLB616"
      },
      "source": [
        "## Question 4\n",
        "Construct a Python program that counts and displays the occurrences of each character in a given string.\n",
        "\n",
        "Sample String: 'openai.ai',\n",
        "\n",
        "Expected Result: {'a': 2, 'i': 2, '.': 1, 'o': 1, 'p': 1, 'e': 1, 'n': 1}"
      ]
    },
    {
      "cell_type": "code",
      "execution_count": 6,
      "metadata": {
        "id": "MtKskTzbCLaU",
        "colab": {
          "base_uri": "https://localhost:8080/"
        },
        "outputId": "98ccc82d-ba00-41fa-ae3a-e672d447ccbf"
      },
      "outputs": [
        {
          "output_type": "stream",
          "name": "stdout",
          "text": [
            "Enter a string: pavani\n",
            "Character occurrences: {'p': 1, 'a': 2, 'v': 1, 'n': 1, 'i': 1}\n"
          ]
        }
      ],
      "source": [
        "# write your answer here\n",
        "\n",
        "# Prompt the user for a string input\n",
        "user_string = input(\"Enter a string: \")\n",
        "\n",
        "# Initialize an empty dictionary to store character counts\n",
        "char_count = {}\n",
        "\n",
        "# Loop through each character in the string\n",
        "for char in user_string:\n",
        "    if char in char_count:\n",
        "        char_count[char] += 1\n",
        "    else:\n",
        "        char_count[char] = 1\n",
        "\n",
        "# Display the character counts\n",
        "print(\"Character occurrences:\", char_count)\n"
      ]
    },
    {
      "cell_type": "markdown",
      "metadata": {
        "id": "55W9AMdXCSpV"
      },
      "source": [
        "## Question 5\n",
        "Design a Python code to calculate the sum of all elements in a user-provided list."
      ]
    },
    {
      "cell_type": "code",
      "execution_count": 7,
      "metadata": {
        "id": "I57NXsauCec2",
        "colab": {
          "base_uri": "https://localhost:8080/"
        },
        "outputId": "48824098-049b-4a44-e0b8-253162c1d2f7"
      },
      "outputs": [
        {
          "output_type": "stream",
          "name": "stdout",
          "text": [
            "Enter a list of numbers separated by commas: 1,2,3,4,5,6,7,8,9\n",
            "The sum of the entered numbers is: 45.0\n"
          ]
        }
      ],
      "source": [
        "def sum_of_elements():\n",
        "    \"\"\"Prompt the user for a list of numbers and calculate the sum of all elements.\"\"\"\n",
        "    # Prompt the user to input a list of numbers as a comma-separated string\n",
        "    user_input = input(\"Enter a list of numbers separated by commas: \")\n",
        "\n",
        "    # Convert the input string to a list of numbers\n",
        "    v = [float(num) for num in user_input.split(',')]\n",
        "\n",
        "    # Calculate the sum of the list elements\n",
        "    total_sum = sum(v)\n",
        "\n",
        "    # Print the result\n",
        "    print(f\"The sum of the entered numbers is: {total_sum}\")\n",
        "\n",
        "# Call the function to execute\n",
        "sum_of_elements()\n"
      ]
    },
    {
      "cell_type": "markdown",
      "metadata": {
        "id": "4ulBZ6yhCi9F"
      },
      "source": [
        "## Question 6\n",
        "Write a Python program that modifies a given string by replacing all occurrences of its first character with '$', excluding the first character itself.\n",
        "\n",
        "\n",
        "Sample String : 'restart‘\n",
        "Expected Result : 'resta\\$t'"
      ]
    },
    {
      "cell_type": "code",
      "execution_count": 8,
      "metadata": {
        "id": "Fj0XhwbBCw2o",
        "colab": {
          "base_uri": "https://localhost:8080/"
        },
        "outputId": "ba3c2772-a76a-4f25-d429-516e971d840c"
      },
      "outputs": [
        {
          "output_type": "stream",
          "name": "stdout",
          "text": [
            "resta$t\n"
          ]
        }
      ],
      "source": [
        "def replace_first_char(p):\n",
        "    \"\"\"Replace all occurrences of the first character in the string with '$', excluding the first character itself.\"\"\"\n",
        "    if not p:\n",
        "        return p  # Return the string as is if it's empty\n",
        "\n",
        "    first_char = p[0]\n",
        "    modified_string = p[0] + p[1:].replace(first_char, '$')\n",
        "\n",
        "    return modified_string\n",
        "\n",
        "# Sample usage\n",
        "sample_string = 'restart'\n",
        "result = replace_first_char(sample_string)\n",
        "print(result)  # Output: 'resta$t'\n",
        "\n"
      ]
    },
    {
      "cell_type": "markdown",
      "metadata": {
        "id": "qVXA3q7ET5JI"
      },
      "source": [
        "## Question 7\n",
        "Write a Python program using a while loop to compute the factorial of a user-supplied number."
      ]
    },
    {
      "cell_type": "code",
      "execution_count": 9,
      "metadata": {
        "id": "Lbt7R6UkT7BA",
        "colab": {
          "base_uri": "https://localhost:8080/"
        },
        "outputId": "437615e8-600f-47da-a69c-3ef8fb9d282f"
      },
      "outputs": [
        {
          "output_type": "stream",
          "name": "stdout",
          "text": [
            "Enter a positive integer: 7\n",
            "The factorial of 7 is: 5040\n"
          ]
        }
      ],
      "source": [
        "def compute_factorial():\n",
        "    \"\"\"Compute the factorial of a user-supplied number using a while loop.\"\"\"\n",
        "    # Prompt the user for a number\n",
        "    b = int(input(\"Enter a positive integer: \"))\n",
        "\n",
        "    # Validate the input\n",
        "    if b < 0:\n",
        "        print(\"Factorial is not defined for negative numbers.\")\n",
        "        return\n",
        "\n",
        "    # Initialize variables\n",
        "    factorial = 1\n",
        "    count = b\n",
        "\n",
        "    # Compute the factorial using a while loop\n",
        "    while count > 0:\n",
        "        factorial *= count\n",
        "        count -= 1\n",
        "\n",
        "    # Print the result\n",
        "    print(f\"The factorial of {b} is: {factorial}\")\n",
        "\n",
        "# Call the function to execute\n",
        "compute_factorial()\n",
        "\n",
        "\n",
        "\n",
        "\n"
      ]
    },
    {
      "cell_type": "markdown",
      "metadata": {
        "id": "6YfbzXMNT--R"
      },
      "source": [
        "## Question 8\n",
        "Create a program that accepts a list of numbers as input and outputs a new list containing only the even numbers."
      ]
    },
    {
      "cell_type": "code",
      "execution_count": 10,
      "metadata": {
        "id": "54q7wMQPUAKu",
        "colab": {
          "base_uri": "https://localhost:8080/"
        },
        "outputId": "d39e3fbb-92de-43b1-f8f5-4d573ac1f842"
      },
      "outputs": [
        {
          "output_type": "stream",
          "name": "stdout",
          "text": [
            "Enter a list of numbers separated by spaces:  4 5 6\n",
            "Even numbers: [4, 6]\n"
          ]
        }
      ],
      "source": [
        "# write your answer here\n",
        "# Prompt the user to input a list of numbers\n",
        "user_list = input(\"Enter a list of numbers separated by spaces: \")\n",
        "\n",
        "# Convert the input string to a list of numbers\n",
        "num_list = [int(num) for num in user_list.split()]\n",
        "\n",
        "# Create a new list containing only the even numbers\n",
        "even_numbers = [num for num in num_list if num % 2 == 0]\n",
        "\n",
        "# Display the list of even numbers\n",
        "print(\"Even numbers:\", even_numbers)\n"
      ]
    },
    {
      "cell_type": "markdown",
      "metadata": {
        "id": "_bIP7s1MCzue"
      },
      "source": [
        "## Question 9\n",
        "Design a Python function to check if a number is prime.\n"
      ]
    },
    {
      "cell_type": "code",
      "execution_count": 11,
      "metadata": {
        "id": "w79QilHXD3Mg",
        "colab": {
          "base_uri": "https://localhost:8080/"
        },
        "outputId": "92db4126-a2e6-419d-fcf5-3a249fa65bec"
      },
      "outputs": [
        {
          "output_type": "stream",
          "name": "stdout",
          "text": [
            "True\n",
            "False\n"
          ]
        }
      ],
      "source": [
        "def is_prime(z):\n",
        "    \"\"\"Check if a number is prime.\"\"\"\n",
        "    if z <= 1:\n",
        "        return False\n",
        "    if z <= 3:\n",
        "        return True\n",
        "    if z % 2 == 0 or z % 3 == 0:\n",
        "        return False\n",
        "\n",
        "    i = 5\n",
        "    while i * i <= z:\n",
        "        if z % i == 0 or z % (i + 2) == 0:\n",
        "            return False\n",
        "        i += 6\n",
        "\n",
        "    return True\n",
        "\n",
        "# Example usage:\n",
        "print(is_prime(29))  # True\n",
        "print(is_prime(10))  # False\n"
      ]
    },
    {
      "cell_type": "markdown",
      "metadata": {
        "id": "xCa2bK9aD4Q3"
      },
      "source": [
        "## Question 10\n",
        "Write a Python program to concatenate following dictionaries to create a new one.\n",
        "\n",
        "Sample Dictionary : dic1={1:10, 2:20}, dic2={3:30, 4:40}, dic3={5:50,6:60},\n",
        "\n",
        "Expected Result : {1: 10, 2: 20, 3: 30, 4: 40, 5: 50, 6: 60}\n"
      ]
    },
    {
      "cell_type": "code",
      "execution_count": 12,
      "metadata": {
        "id": "_z4aLqAbEET1",
        "colab": {
          "base_uri": "https://localhost:8080/"
        },
        "outputId": "122933ab-e2dc-4f2b-fb00-309153e2560b"
      },
      "outputs": [
        {
          "output_type": "stream",
          "name": "stdout",
          "text": [
            "Combined dictionary: {1: 10, 2: 20, 3: 30, 4: 40, 5: 50, 6: 60}\n"
          ]
        }
      ],
      "source": [
        "# write your answer here\n",
        "# Sample dictionaries\n",
        "dic1 = {1: 10, 2: 20}\n",
        "dic2 = {3: 30, 4: 40}\n",
        "dic3 = {5: 50, 6: 60}\n",
        "\n",
        "# Concatenate dictionaries\n",
        "combined_dict = {**dic1, **dic2, **dic3}\n",
        "\n",
        "# Display the result\n",
        "print(\"Combined dictionary:\", combined_dict)\n"
      ]
    },
    {
      "cell_type": "markdown",
      "metadata": {
        "id": "bkyZ2xSZUOst"
      },
      "source": [
        "## Question 11\n",
        "Design a Python function that takes a tuple of integers as input and returns the largest and smallest elements."
      ]
    },
    {
      "cell_type": "code",
      "execution_count": 13,
      "metadata": {
        "id": "3FdLRBKOUQEd",
        "colab": {
          "base_uri": "https://localhost:8080/"
        },
        "outputId": "084a925f-fb69-4b42-f362-715538a4ed56"
      },
      "outputs": [
        {
          "output_type": "stream",
          "name": "stdout",
          "text": [
            "Smallest: 1, Largest: 9\n"
          ]
        }
      ],
      "source": [
        "def find_min_max(x):\n",
        "    \"\"\"Return the smallest and largest elements from a tuple of integers.\"\"\"\n",
        "    if not x:\n",
        "        return None, None  # Handle the case of an empty tuple\n",
        "\n",
        "    smallest = min(x)\n",
        "    largest = max(x)\n",
        "\n",
        "    return smallest, largest\n",
        "\n",
        "# Example usage:\n",
        "example_tuple = (4, 1, 7, 3, 9, 2)\n",
        "min_val, max_val = find_min_max(example_tuple)\n",
        "print(f\"Smallest: {min_val}, Largest: {max_val}\")\n"
      ]
    },
    {
      "cell_type": "markdown",
      "metadata": {
        "id": "O0TVi3gKUTpp"
      },
      "source": [
        "## Question 12\n",
        "Write a Python program that counts the frequency of each character in a given string and stores it in a dictionary."
      ]
    },
    {
      "cell_type": "code",
      "execution_count": 14,
      "metadata": {
        "id": "lAtfSfZXUU-h",
        "colab": {
          "base_uri": "https://localhost:8080/"
        },
        "outputId": "44670a5b-44f1-4f18-e233-b60abb06759f"
      },
      "outputs": [
        {
          "output_type": "stream",
          "name": "stdout",
          "text": [
            "{'e': 2, 'x': 1, 'a': 1, 'm': 1, 'p': 1, 'l': 1}\n"
          ]
        }
      ],
      "source": [
        "def count_character_frequency(c):\n",
        "    \"\"\"Count the frequency of each character in the given string and return a dictionary.\"\"\"\n",
        "    frequency = {}\n",
        "    for char in c:\n",
        "        if char in frequency:\n",
        "            frequency[char] += 1\n",
        "        else:\n",
        "            frequency[char] = 1\n",
        "    return frequency\n",
        "\n",
        "# Example usage:\n",
        "input_string = \"example\"\n",
        "frequency_dict = count_character_frequency(input_string)\n",
        "print(frequency_dict)\n"
      ]
    },
    {
      "cell_type": "markdown",
      "metadata": {
        "id": "0v48Vqa7FrQh"
      },
      "source": [
        "## Question 13\n",
        "Implement a Python script to identify duplicate elements in a provided array of integers. Return -1 if there are no duplicates."
      ]
    },
    {
      "cell_type": "code",
      "execution_count": 15,
      "metadata": {
        "id": "7WEmgq-DF2P1",
        "colab": {
          "base_uri": "https://localhost:8080/"
        },
        "outputId": "3aa61f4f-a347-4ce9-b975-d3bc84b9835a"
      },
      "outputs": [
        {
          "output_type": "stream",
          "name": "stdout",
          "text": [
            "Enter a list of integers separated by spaces: 3 7 8\n",
            "No duplicates found.\n"
          ]
        }
      ],
      "source": [
        "# write your answer here\n",
        "def find_duplicates(arr):\n",
        "    \"\"\"Identify duplicate elements in the array and return them as a set.\n",
        "    Return -1 if there are no duplicates.\n",
        "    \"\"\"\n",
        "    seen = set()\n",
        "    duplicates = set()\n",
        "\n",
        "    for num in arr:\n",
        "        if num in seen:\n",
        "            duplicates.add(num)\n",
        "        else:\n",
        "            seen.add(num)\n",
        "\n",
        "    if duplicates:\n",
        "        return duplicates\n",
        "    else:\n",
        "        return -1\n",
        "\n",
        "# Prompt the user for input\n",
        "user_input = input(\"Enter a list of integers separated by spaces: \")\n",
        "\n",
        "# Convert the input string to a list of integers\n",
        "num_list = [int(num) for num in user_input.split()]\n",
        "\n",
        "# Find duplicates\n",
        "result = find_duplicates(num_list)\n",
        "\n",
        "# Display the result\n",
        "if result == -1:\n",
        "    print(\"No duplicates found.\")\n",
        "else:\n",
        "    print(\"Duplicate elements:\", result)\n"
      ]
    },
    {
      "cell_type": "markdown",
      "metadata": {
        "id": "vD5PYLMuGga_"
      },
      "source": [
        "## Question 14\n",
        "Write a Python script to find the common elements between two lists."
      ]
    },
    {
      "cell_type": "code",
      "execution_count": 16,
      "metadata": {
        "id": "t0D5kdJUGjjw",
        "colab": {
          "base_uri": "https://localhost:8080/"
        },
        "outputId": "cee39620-b157-4067-8003-21c9dea44b9a"
      },
      "outputs": [
        {
          "output_type": "stream",
          "name": "stdout",
          "text": [
            "Enter the first list of integers separated by spaces: 9 8 7 6\n",
            "Enter the second list of integers separated by spaces: 0 7 5\n",
            "Common elements: {7}\n"
          ]
        }
      ],
      "source": [
        "# write your answer here\n",
        "\n",
        "def find_common_elements(list1, list2):\n",
        "    \"\"\"Find the common elements between two lists.\"\"\"\n",
        "    # Convert lists to sets to find intersection\n",
        "    set1 = set(list1)\n",
        "    set2 = set(list2)\n",
        "\n",
        "    # Find the intersection of the two sets\n",
        "    common_elements = set1.intersection(set2)\n",
        "\n",
        "    return common_elements\n",
        "\n",
        "# Prompt the user for the first list of integers\n",
        "list1_input = input(\"Enter the first list of integers separated by spaces: \")\n",
        "list1 = [int(num) for num in list1_input.split()]\n",
        "\n",
        "# Prompt the user for the second list of integers\n",
        "list2_input = input(\"Enter the second list of integers separated by spaces: \")\n",
        "list2 = [int(num) for num in list2_input.split()]\n",
        "\n",
        "# Find common elements\n",
        "common_elements = find_common_elements(list1, list2)\n",
        "\n",
        "# Display the result\n",
        "print(\"Common elements:\", common_elements)\n"
      ]
    },
    {
      "cell_type": "markdown",
      "metadata": {
        "id": "uHkd-y5VhVWC"
      },
      "source": [
        "## Question 15\n",
        "Write a Python program to randomly divide the students in this class into maximum of eight groups for term projects, each group should have at least 4 students but no more than 6 students (including 6).\n",
        "\n",
        "Here is the students list:\n",
        "\n",
        "student_list_spring_2024=[rb0846,\n",
        "ac1964,\n",
        "hc0612,\n",
        "md0912,\n",
        "ad1198,\n",
        "md0894,\n",
        "md0825,\n",
        "vg0598,\n",
        "vg0433,\n",
        "mh1068,\n",
        "yj0173,\n",
        "pk0553,\n",
        "tk0411,\n",
        "srk0204,\n",
        "sk2922,\n",
        "sk2936,\n",
        "mk1302,\n",
        "mk1317,\n",
        "tk0412,\n",
        "vk0656,\n",
        "sm2985,\n",
        "mm2372,\n",
        "un0045,\n",
        "an0892,\n",
        "sn0913,\n",
        "gp0252,\n",
        "ap1484,\n",
        "mr1765,\n",
        "sr1385,\n",
        "sr1335,\n",
        "hs0665,\n",
        "ms2060,\n",
        "gt0217,\n",
        "nt0385,\n",
        "tv0186,\n",
        "sv1394,\n",
        "sv1752,\n",
        "sv1555,\n",
        "sy0594\n",
        "]\n"
      ]
    },
    {
      "cell_type": "code",
      "execution_count": 17,
      "metadata": {
        "id": "3iGbmcOBhTwy",
        "colab": {
          "base_uri": "https://localhost:8080/"
        },
        "outputId": "2c721b53-b269-417e-a059-3d5faaa4b568"
      },
      "outputs": [
        {
          "output_type": "stream",
          "name": "stdout",
          "text": [
            "Group 1: ['gt0217', 'hc0612', 'sv1555', 'md0912', 'md0894', 'sn0913']\n",
            "Group 2: ['un0045', 'an0892', 'yj0173', 'sv1752', 'hs0665', 'mk1302']\n",
            "Group 3: ['mm2372', 'mk1317', 'sk2922', 'pk0553', 'mh1068', 'ms2060']\n",
            "Group 4: ['tk0412', 'tv0186', 'sk2936', 'vk0656', 'sy0594', 'vg0433']\n",
            "Group 5: ['ad1198', 'nt0385', 'gp0252', 'rb0846', 'srk0204']\n",
            "Group 6: ['ap1484', 'ac1964', 'sr1385', 'tk0411', 'sm2985']\n",
            "Group 7: ['sv1394', 'md0825', 'mr1765', 'vg0598', 'sr1335']\n"
          ]
        }
      ],
      "source": [
        "# write your answer here\n",
        "import random\n",
        "\n",
        "def create_groups(students, max_groups=8, min_group_size=4, max_group_size=6):\n",
        "    \"\"\"Divide the list of students into groups with specified size constraints.\"\"\"\n",
        "    # Shuffle the list of students to ensure randomness\n",
        "    random.shuffle(students)\n",
        "\n",
        "    # Initialize variables\n",
        "    groups = []\n",
        "    num_students = len(students)\n",
        "    num_groups = min(max_groups, -(-num_students // max_group_size))  # Ensure at least max_group_size per group\n",
        "\n",
        "    # Ensure the number of groups does not exceed the maximum and adjust sizes\n",
        "    while True:\n",
        "        # Calculate group sizes\n",
        "        ideal_size = num_students // num_groups\n",
        "        remainder = num_students % num_groups\n",
        "\n",
        "        if ideal_size < min_group_size:\n",
        "            num_groups -= 1\n",
        "            ideal_size = num_students // num_groups\n",
        "            remainder = num_students % num_groups\n",
        "        else:\n",
        "            break\n",
        "\n",
        "    # Create groups\n",
        "    start = 0\n",
        "    for i in range(num_groups):\n",
        "        end = start + ideal_size + (1 if i < remainder else 0)\n",
        "        groups.append(students[start:end])\n",
        "        start = end\n",
        "\n",
        "    return groups\n",
        "\n",
        "# List of students\n",
        "student_list_spring_2024 = [\n",
        "    'rb0846', 'ac1964', 'hc0612', 'md0912', 'ad1198', 'md0894', 'md0825', 'vg0598',\n",
        "    'vg0433', 'mh1068', 'yj0173', 'pk0553', 'tk0411', 'srk0204', 'sk2922', 'sk2936',\n",
        "    'mk1302', 'mk1317', 'tk0412', 'vk0656', 'sm2985', 'mm2372', 'un0045', 'an0892',\n",
        "    'sn0913', 'gp0252', 'ap1484', 'mr1765', 'sr1385', 'sr1335', 'hs0665', 'ms2060',\n",
        "    'gt0217', 'nt0385', 'tv0186', 'sv1394', 'sv1752', 'sv1555', 'sy0594'\n",
        "]\n",
        "\n",
        "# Create and display groups\n",
        "groups = create_groups(student_list_spring_2024)\n",
        "for i, group in enumerate(groups):\n",
        "    print(f\"Group {i+1}: {group}\")\n"
      ]
    },
    {
      "cell_type": "markdown",
      "metadata": {
        "id": "fmZ9vX20Qs3d"
      },
      "source": [
        "## Question 16\n",
        "Create a program that takes a positive integer 'n' as input and prints the count of even numbers from 1 to 'n'. Optimize the loop using the continue statement."
      ]
    },
    {
      "cell_type": "code",
      "execution_count": 18,
      "metadata": {
        "id": "W8Jw6sWMQs3d",
        "colab": {
          "base_uri": "https://localhost:8080/"
        },
        "outputId": "eb1c9c61-5074-48a2-cdd6-10f62032b2a7"
      },
      "outputs": [
        {
          "output_type": "stream",
          "name": "stdout",
          "text": [
            "Enter a positive integer: 4\n",
            "The count of even numbers from 1 to 4 is: 2\n"
          ]
        }
      ],
      "source": [
        "# write your answer here\n",
        "def count_even_numbers(n):\n",
        "    \"\"\"Count the even numbers from 1 to n.\"\"\"\n",
        "    if n < 1:\n",
        "        raise ValueError(\"The input must be a positive integer.\")\n",
        "\n",
        "    count = 0\n",
        "    for i in range(1, n + 1):\n",
        "        if i % 2 != 0:\n",
        "            continue  # Skip odd numbers\n",
        "        count += 1\n",
        "\n",
        "    return count\n",
        "\n",
        "# Prompt the user for a positive integer input\n",
        "try:\n",
        "    n = int(input(\"Enter a positive integer: \"))\n",
        "    if n <= 0:\n",
        "        raise ValueError\n",
        "    even_count = count_even_numbers(n)\n",
        "    print(f\"The count of even numbers from 1 to {n} is: {even_count}\")\n",
        "except ValueError:\n",
        "    print(\"Please enter a valid positive integer.\")\n"
      ]
    },
    {
      "cell_type": "markdown",
      "metadata": {
        "id": "hvq4APMhQs3d"
      },
      "source": [
        "## Question 17\n",
        "Develop a Python function called 'count_vowels' that takes a string as input and returns the count of vowels (both lowercase and uppercase) present in the string, ignoring spaces and non-alphabetic characters."
      ]
    },
    {
      "cell_type": "code",
      "execution_count": 19,
      "metadata": {
        "id": "ZnoxhSglQs3d",
        "colab": {
          "base_uri": "https://localhost:8080/"
        },
        "outputId": "d466585c-60a9-4181-ee29-1afe199db142"
      },
      "outputs": [
        {
          "output_type": "stream",
          "name": "stdout",
          "text": [
            "Enter a string: baby\n",
            "The count of vowels in the given string is: 1\n"
          ]
        }
      ],
      "source": [
        "# write your answer here\n",
        "def count_vowels(s):\n",
        "    \"\"\"Count the number of vowels in the given string, ignoring spaces and non-alphabetic characters.\"\"\"\n",
        "    vowels = \"aeiouAEIOU\"  # Define the vowels\n",
        "    count = 0\n",
        "\n",
        "    for char in s:\n",
        "        if char in vowels:\n",
        "            count += 1\n",
        "\n",
        "    return count\n",
        "\n",
        "# Prompt the user for input\n",
        "user_string = input(\"Enter a string: \")\n",
        "\n",
        "# Get the vowel count\n",
        "vowel_count = count_vowels(user_string)\n",
        "\n",
        "# Display the result\n",
        "print(f\"The count of vowels in the given string is: {vowel_count}\")\n"
      ]
    },
    {
      "cell_type": "markdown",
      "metadata": {
        "id": "55FWoSJPVVM6"
      },
      "source": [
        "## Question 18\n",
        "Create a custom exception named ValueTooSmallError in Python. Write a program that takes user input for an age, and if the entered age is less than 18, raise the ValueTooSmallError with an appropriate error message."
      ]
    },
    {
      "cell_type": "code",
      "execution_count": 20,
      "metadata": {
        "id": "hwtr1wZmVX5A",
        "colab": {
          "base_uri": "https://localhost:8080/"
        },
        "outputId": "6f3bd43f-6d3f-4db6-d1bc-4cf5a8495dca"
      },
      "outputs": [
        {
          "output_type": "stream",
          "name": "stdout",
          "text": [
            "Enter your age: 25\n",
            "Age accepted.\n"
          ]
        }
      ],
      "source": [
        "# write your answer here\n",
        "class ValueTooSmallError(Exception):\n",
        "    \"\"\"Exception raised for values that are too small.\"\"\"\n",
        "    def __init__(self, message=\"Age must be at least 18.\"):\n",
        "        self.message = message\n",
        "        super().__init__(self.message)\n",
        "\n",
        "def check_age(age):\n",
        "    \"\"\"Check if the age is less than 18 and raise ValueTooSmallError if so.\"\"\"\n",
        "    if age < 18:\n",
        "        raise ValueTooSmallError()\n",
        "\n",
        "# Prompt the user for age input\n",
        "try:\n",
        "    user_age = int(input(\"Enter your age: \"))\n",
        "    check_age(user_age)\n",
        "    print(\"Age accepted.\")\n",
        "except ValueTooSmallError as e:\n",
        "    print(e)\n",
        "except ValueError:\n",
        "    print(\"Invalid input. Please enter a valid integer.\")\n"
      ]
    },
    {
      "cell_type": "markdown",
      "metadata": {
        "id": "Q9ecagcaVazW"
      },
      "source": [
        "## Question 19\n",
        "Develop a script that reverses a given string without using built-in reverse functions."
      ]
    },
    {
      "cell_type": "code",
      "execution_count": 21,
      "metadata": {
        "id": "gycgckoAVZjR",
        "colab": {
          "base_uri": "https://localhost:8080/"
        },
        "outputId": "ef76162d-1da9-4c2f-c0f8-62b4df10d10e"
      },
      "outputs": [
        {
          "output_type": "stream",
          "name": "stdout",
          "text": [
            "Enter a string to reverse: v\n",
            "The reversed string is: v\n"
          ]
        }
      ],
      "source": [
        "# write your answer here\n",
        "def reverse_string(s):\n",
        "    \"\"\"Reverse the given string without using built-in reverse functions.\"\"\"\n",
        "    reversed_str = \"\"\n",
        "\n",
        "    # Iterate over the string from end to start\n",
        "    for char in s:\n",
        "        reversed_str = char + reversed_str\n",
        "\n",
        "    return reversed_str\n",
        "\n",
        "# Prompt the user for input\n",
        "user_string = input(\"Enter a string to reverse: \")\n",
        "\n",
        "# Reverse the string\n",
        "reversed_string = reverse_string(user_string)\n",
        "\n",
        "# Display the result\n",
        "print(f\"The reversed string is: {reversed_string}\")\n"
      ]
    },
    {
      "cell_type": "markdown",
      "metadata": {
        "id": "ZFG6RibifMLu"
      },
      "source": [
        "## Question 20\n",
        "Implement a Python script to generate a random password of a specified length."
      ]
    },
    {
      "cell_type": "code",
      "execution_count": 22,
      "metadata": {
        "id": "BFVrkEi9fNiD",
        "colab": {
          "base_uri": "https://localhost:8080/"
        },
        "outputId": "3662b117-3aa0-4a36-f604-150baca57032"
      },
      "outputs": [
        {
          "output_type": "stream",
          "name": "stdout",
          "text": [
            "Enter the desired password length: 31\n",
            "Generated password: Al(DC@`&7fR,[{H!GY!aPI\"wDF1)NSr\n"
          ]
        }
      ],
      "source": [
        "# write your answer here\n",
        "import random\n",
        "import string\n",
        "\n",
        "def generate_password(length):\n",
        "    \"\"\"Generate a random password of specified length.\"\"\"\n",
        "    if length < 1:\n",
        "        raise ValueError(\"Password length must be at least 1.\")\n",
        "\n",
        "    # Define the characters to use in the password\n",
        "    characters = string.ascii_letters + string.digits + string.punctuation\n",
        "\n",
        "    # Generate a random password\n",
        "    password = ''.join(random.choice(characters) for _ in range(length))\n",
        "\n",
        "    return password\n",
        "\n",
        "# Prompt the user for password length\n",
        "try:\n",
        "    password_length = int(input(\"Enter the desired password length: \"))\n",
        "    if password_length < 1:\n",
        "        raise ValueError(\"Password length must be at least 1.\")\n",
        "    password = generate_password(password_length)\n",
        "    print(f\"Generated password: {password}\")\n",
        "except ValueError as e:\n",
        "    print(e)\n"
      ]
    },
    {
      "cell_type": "markdown",
      "metadata": {
        "id": "6SmvS7nSfbj8"
      },
      "source": [
        "# Try these questions"
      ]
    },
    {
      "cell_type": "markdown",
      "metadata": {
        "id": "cboAr5pEWUf5"
      },
      "source": [
        "(21) Define a base class called 'Vehicle' with attributes make and model. Create a derived class Car that inherits from Vehicle and has an additional attribute 'num_doors'. Demonstrate an example of creating an instance of the 'Car' class and accessing its attributes."
      ]
    },
    {
      "cell_type": "code",
      "execution_count": 23,
      "metadata": {
        "id": "phs9gciMWWAW",
        "colab": {
          "base_uri": "https://localhost:8080/"
        },
        "outputId": "69a453f3-b4cf-4d95-821f-cfec6b83c426"
      },
      "outputs": [
        {
          "output_type": "stream",
          "name": "stdout",
          "text": [
            "Car Information:\n",
            "Make: Toyota, Model: Camry, Number of Doors: 4\n"
          ]
        }
      ],
      "source": [
        "# write your answer here\n",
        "# Base class\n",
        "class Vehicle:\n",
        "    def __init__(self, make, model):\n",
        "        self.make = make\n",
        "        self.model = model\n",
        "\n",
        "    def display_info(self):\n",
        "        \"\"\"Display information about the vehicle.\"\"\"\n",
        "        return f\"Make: {self.make}, Model: {self.model}\"\n",
        "\n",
        "# Derived class\n",
        "class Car(Vehicle):\n",
        "    def __init__(self, make, model, num_doors):\n",
        "        super().__init__(make, model)  # Call the constructor of the base class\n",
        "        self.num_doors = num_doors\n",
        "\n",
        "    def display_info(self):\n",
        "        \"\"\"Display information about the car, including the number of doors.\"\"\"\n",
        "        base_info = super().display_info()  # Get the base class information\n",
        "        return f\"{base_info}, Number of Doors: {self.num_doors}\"\n",
        "\n",
        "# Example of creating an instance of the Car class and accessing its attributes\n",
        "if __name__ == \"__main__\":\n",
        "    # Create an instance of the Car class\n",
        "    my_car = Car(make=\"Toyota\", model=\"Camry\", num_doors=4)\n",
        "\n",
        "    # Access and print the attributes and method output\n",
        "    print(\"Car Information:\")\n",
        "    print(my_car.display_info())\n"
      ]
    },
    {
      "cell_type": "markdown",
      "metadata": {
        "id": "J8HHefNtePwd"
      },
      "source": [
        "(22) Create a class called 'Shape' with a method calculate_area(). Implement two derived classes 'Circle' and 'Rectangle' that inherit from Shape and override the calculate_area() method. Demonstrate polymorphism by creating instances of both derived classes and calling the calculate_area() method."
      ]
    },
    {
      "cell_type": "code",
      "execution_count": 24,
      "metadata": {
        "id": "btnMmUZDeRhS",
        "colab": {
          "base_uri": "https://localhost:8080/"
        },
        "outputId": "eebccab3-7743-40b6-99e6-84b85b9609db"
      },
      "outputs": [
        {
          "output_type": "stream",
          "name": "stdout",
          "text": [
            "Circle Area: 78.54\n",
            "Rectangle Area: 24.00\n"
          ]
        }
      ],
      "source": [
        "# write your answer here\n",
        "\n",
        "import math\n",
        "\n",
        "# Base class\n",
        "class Shape:\n",
        "    def calculate_area(self):\n",
        "        \"\"\"Calculate the area of the shape. This method should be overridden by derived classes.\"\"\"\n",
        "        raise NotImplementedError(\"Subclasses must implement this method.\")\n",
        "\n",
        "# Derived class for Circle\n",
        "class Circle(Shape):\n",
        "    def __init__(self, radius):\n",
        "        self.radius = radius\n",
        "\n",
        "    def calculate_area(self):\n",
        "        \"\"\"Calculate the area of the circle.\"\"\"\n",
        "        return math.pi * (self.radius ** 2)\n",
        "\n",
        "# Derived class for Rectangle\n",
        "class Rectangle(Shape):\n",
        "    def __init__(self, width, height):\n",
        "        self.width = width\n",
        "        self.height = height\n",
        "\n",
        "    def calculate_area(self):\n",
        "        \"\"\"Calculate the area of the rectangle.\"\"\"\n",
        "        return self.width * self.height\n",
        "\n",
        "# Demonstrating polymorphism\n",
        "if __name__ == \"__main__\":\n",
        "    # Create instances of Circle and Rectangle\n",
        "    circle = Circle(radius=5)\n",
        "    rectangle = Rectangle(width=4, height=6)\n",
        "\n",
        "    # Calculate and print areas\n",
        "    print(f\"Circle Area: {circle.calculate_area():.2f}\")\n",
        "    print(f\"Rectangle Area: {rectangle.calculate_area():.2f}\")\n"
      ]
    },
    {
      "cell_type": "markdown",
      "metadata": {
        "id": "z0oqEAlTeMUS"
      },
      "source": [
        "(23) Write a Python program that prompts the user to enter two numbers and perform a division operation. Handle exceptions for both zero division and invalid input (non-numeric input). Display appropriate error messages for each type of exception and ensure the program does not crash due to these errors."
      ]
    },
    {
      "cell_type": "code",
      "execution_count": 25,
      "metadata": {
        "id": "yjdc1zM1eMAs",
        "colab": {
          "base_uri": "https://localhost:8080/"
        },
        "outputId": "8a464c3e-c83f-4812-aa76-216724657d90"
      },
      "outputs": [
        {
          "output_type": "stream",
          "name": "stdout",
          "text": [
            "Enter the numerator: 4\n",
            "Enter the denominator: 6\n",
            "Result: 0.6666666666666666\n"
          ]
        }
      ],
      "source": [
        "# write your answer here\n",
        "\n",
        "def divide_numbers(numerator, denominator):\n",
        "    \"\"\"Perform division and handle zero division error.\"\"\"\n",
        "    try:\n",
        "        result = numerator / denominator\n",
        "        return result\n",
        "    except ZeroDivisionError:\n",
        "        return \"Error: Cannot divide by zero.\"\n",
        "\n",
        "def main():\n",
        "    try:\n",
        "        # Prompt the user for input\n",
        "        num1 = float(input(\"Enter the numerator: \"))\n",
        "        num2 = float(input(\"Enter the denominator: \"))\n",
        "\n",
        "        # Perform division\n",
        "        result = divide_numbers(num1, num2)\n",
        "        print(f\"Result: {result}\")\n",
        "\n",
        "    except ValueError:\n",
        "        print(\"Error: Invalid input. Please enter numeric values.\")\n",
        "\n",
        "if __name__ == \"__main__\":\n",
        "    main()\n"
      ]
    },
    {
      "cell_type": "markdown",
      "metadata": {
        "id": "sZOhks1dXWEe"
      },
      "source": [
        "# Mandatory Question"
      ]
    },
    {
      "cell_type": "markdown",
      "metadata": {
        "id": "eqmHVEwaWhbV"
      },
      "source": [
        "**Important:**\n",
        "Reflecting on the first three lectures and the exercises you've completed, please provide feedback on your learning experience. Share your thoughts on whether the material covered was clear, the exercises were helpful, and if you feel more confident in applying Python programming concepts. Additionally, mention any specific areas where you would like more clarification or topics you would like to explore further in future lectures. Your feedback is valuable in shaping the course for an effective learning journey."
      ]
    },
    {
      "cell_type": "code",
      "execution_count": 26,
      "metadata": {
        "id": "akAVJn9YBTQT",
        "colab": {
          "base_uri": "https://localhost:8080/",
          "height": 106
        },
        "outputId": "f5edd9fb-ae6b-4aef-cada-27aa7bd6701f"
      },
      "outputs": [
        {
          "output_type": "error",
          "ename": "SyntaxError",
          "evalue": "incomplete input (<ipython-input-26-2adce53be3ea>, line 1)",
          "traceback": [
            "\u001b[0;36m  File \u001b[0;32m\"<ipython-input-26-2adce53be3ea>\"\u001b[0;36m, line \u001b[0;32m1\u001b[0m\n\u001b[0;31m    '''\u001b[0m\n\u001b[0m    ^\u001b[0m\n\u001b[0;31mSyntaxError\u001b[0m\u001b[0;31m:\u001b[0m incomplete input\n"
          ]
        }
      ],
      "source": [
        "'''\n",
        "Write your response here.\n",
        "\n",
        "Feedback on Learning Experience\n",
        "\n",
        "Material Clarity: The first three lectures' content was largely organized and accessible. Fundamental notions were presented, and there was enough information in the explanations to ensure that the reader understood the main points of the introduction to Python programming. Building a strong grasp of fundamental programming constructs was made easier by the methodical presentation of the content.\n",
        "\n",
        "Exercises' utility in consolidating the ideas covered in the lectures was excellent. In addition to helping to build problem-solving abilities, they offered real-world applications of theoretical information. By applying the information in a practical way, completing the tasks improved my comprehension considerably."
      ]
    }
  ],
  "metadata": {
    "colab": {
      "provenance": [],
      "toc_visible": true,
      "include_colab_link": true
    },
    "kernelspec": {
      "display_name": "Python 3 (ipykernel)",
      "language": "python",
      "name": "python3"
    },
    "language_info": {
      "codemirror_mode": {
        "name": "ipython",
        "version": 3
      },
      "file_extension": ".py",
      "mimetype": "text/x-python",
      "name": "python",
      "nbconvert_exporter": "python",
      "pygments_lexer": "ipython3",
      "version": "3.9.12"
    }
  },
  "nbformat": 4,
  "nbformat_minor": 0
}